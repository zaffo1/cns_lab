{
 "cells": [
  {
   "cell_type": "code",
   "execution_count": 80,
   "metadata": {},
   "outputs": [],
   "source": [
    "import numpy as np\n",
    "import matplotlib.pyplot as plt"
   ]
  },
  {
   "cell_type": "code",
   "execution_count": 81,
   "metadata": {},
   "outputs": [],
   "source": [
    "def distort_image(im, prop):\n",
    "    if prop < 0 or prop > 1:\n",
    "        print(\"Out-of-bound proportion: going to default 0.05\")\n",
    "        prop = 0.05  # Default\n",
    "\n",
    "    imd = im\n",
    "    indx = np.random.permutation(len(imd.ravel()))\n",
    "    todist = indx[:round(len(indx) * prop)]\n",
    "    imd.flat[todist] = -imd.flat[todist]\n",
    "\n",
    "    return imd\n",
    "\n",
    "# This function takes an input image im and a distortion proportion prop.\n",
    "# If the proportion is out of the valid range (0 to 1), it sets a default value of 0.05.\n",
    "# It then randomly selects a subset of the image elements based on the proportion and negates their values.\n",
    "\n",
    "def distort_vector(p,d):\n",
    "        if d < 0 or d > 1:\n",
    "            print(\"Out-of-bound proportion: going to default 0.05\")\n",
    "            d = 0.05  # Default\n",
    "\n",
    "        pd = p\n",
    "        indx = np.random.permutation(len(pd))\n",
    "        todist = indx[:round(len(indx) * d)]\n",
    "        pd[todist] = -pd[todist]\n",
    "\n",
    "        return pd\n"
   ]
  },
  {
   "cell_type": "code",
   "execution_count": 82,
   "metadata": {},
   "outputs": [
    {
     "data": {
      "image/png": "[encoded data removed]",
      "text/plain": [
       "<Figure size 432x288 with 1 Axes>"
      ]
     },
     "metadata": {
      "needs_background": "light"
     },
     "output_type": "display_data"
    },
    {
     "data": {
      "image/png": "[encoded data removed]",
      "text/plain": [
       "<Figure size 432x288 with 1 Axes>"
      ]
     },
     "metadata": {
      "needs_background": "light"
     },
     "output_type": "display_data"
    },
    {
     "data": {
      "image/png": "[encoded data removed]",
      "text/plain": [
       "<Figure size 432x288 with 1 Axes>"
      ]
     },
     "metadata": {
      "needs_background": "light"
     },
     "output_type": "display_data"
    }
   ],
   "source": [
    "p0 = np.loadtxt('../Lab2_2/lab2_2_data/p0.csv')\n",
    "p1 = np.loadtxt('../Lab2_2/lab2_2_data/p1.csv')\n",
    "p2 = np.loadtxt('../Lab2_2/lab2_2_data/p2.csv')\n",
    "\n",
    "im0 = np.transpose(np.reshape(p0, (32, 32)))\n",
    "im1 = np.transpose(np.reshape(p1, (32, 32)))\n",
    "im2 = np.transpose(np.reshape(p2, (32, 32)))\n",
    "\n",
    "plt.imshow(im0)\n",
    "plt.show()\n",
    "plt.imshow(im1)\n",
    "plt.show()\n",
    "plt.imshow(im2)\n",
    "plt.show()"
   ]
  },
  {
   "cell_type": "code",
   "execution_count": 83,
   "metadata": {},
   "outputs": [
    {
     "data": {
      "image/png": "[encoded data removed]",
      "text/plain": [
       "<Figure size 432x288 with 1 Axes>"
      ]
     },
     "metadata": {
      "needs_background": "light"
     },
     "output_type": "display_data"
    },
    {
     "data": {
      "image/png": "[encoded data removed]",
      "text/plain": [
       "<Figure size 432x288 with 1 Axes>"
      ]
     },
     "metadata": {
      "needs_background": "light"
     },
     "output_type": "display_data"
    },
    {
     "data": {
      "image/png": "[encoded data removed]",
      "text/plain": [
       "<Figure size 432x288 with 1 Axes>"
      ]
     },
     "metadata": {
      "needs_background": "light"
     },
     "output_type": "display_data"
    }
   ],
   "source": [
    "im0d = distort_image(im0, 0.1)\n",
    "im1d = distort_image(im1, 0.1)\n",
    "im2d = distort_image(im2, 0.1)\n",
    "\n",
    "plt.imshow(im0)\n",
    "plt.show()\n",
    "plt.imshow(im1)\n",
    "plt.show()\n",
    "plt.imshow(im2)\n",
    "plt.show()"
   ]
  },
  {
   "attachments": {},
   "cell_type": "markdown",
   "metadata": {},
   "source": [
    "# Storage Phase (learning)"
   ]
  },
  {
   "cell_type": "code",
   "execution_count": 87,
   "metadata": {},
   "outputs": [],
   "source": [
    "def learning(p):\n",
    "    N = len(p)\n",
    "    w = (1/N)*np.outer(p,p) #va bene??\n",
    "    np.fill_diagonal(w, 0)\n",
    "    return w"
   ]
  },
  {
   "cell_type": "code",
   "execution_count": 88,
   "metadata": {},
   "outputs": [
    {
     "name": "stdout",
     "output_type": "stream",
     "text": [
      "[[ 0.         -0.00097656  0.00097656 ...  0.00097656  0.00097656\n",
      "   0.00097656]\n",
      " [-0.00097656  0.         -0.00097656 ... -0.00097656 -0.00097656\n",
      "  -0.00097656]\n",
      " [ 0.00097656 -0.00097656  0.         ...  0.00097656  0.00097656\n",
      "   0.00097656]\n",
      " ...\n",
      " [ 0.00097656 -0.00097656  0.00097656 ...  0.          0.00097656\n",
      "   0.00097656]\n",
      " [ 0.00097656 -0.00097656  0.00097656 ...  0.00097656  0.\n",
      "   0.00097656]\n",
      " [ 0.00097656 -0.00097656  0.00097656 ...  0.00097656  0.00097656\n",
      "   0.        ]]\n"
     ]
    }
   ],
   "source": [
    "w = learning(p0)\n",
    "print(w)"
   ]
  },
  {
   "attachments": {},
   "cell_type": "markdown",
   "metadata": {},
   "source": [
    "# Retrieval Phase"
   ]
  }
 ],
 "metadata": {
  "kernelspec": {
   "display_name": "cns_env",
   "language": "python",
   "name": "cns_env"
  },
  "language_info": {
   "codemirror_mode": {
    "name": "ipython",
    "version": 3
   },
   "file_extension": ".py",
   "mimetype": "text/x-python",
   "name": "python",
   "nbconvert_exporter": "python",
   "pygments_lexer": "ipython3",
   "version": "3.8.10"
  },
  "orig_nbformat": 4
 },
 "nbformat": 4,
 "nbformat_minor": 2
}
