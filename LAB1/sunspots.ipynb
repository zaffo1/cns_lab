{
 "cells": [
  {
   "cell_type": "code",
   "execution_count": 10,
   "metadata": {},
   "outputs": [],
   "source": [
    "import numpy as np\n",
    "from matplotlib import pyplot as plt"
   ]
  },
  {
   "cell_type": "code",
   "execution_count": 17,
   "metadata": {},
   "outputs": [
    {
     "name": "stdout",
     "output_type": "stream",
     "text": [
      "2899\n",
      "2398\n",
      "501\n",
      "2899\n"
     ]
    },
    {
     "data": {
      "text/plain": [
       "[<matplotlib.lines.Line2D at 0x7f58495ec9d0>]"
      ]
     },
     "execution_count": 17,
     "metadata": {},
     "output_type": "execute_result"
    },
    {
     "data": {
      "image/png": "[encoded data removed]",
      "text/plain": [
       "<Figure size 432x288 with 1 Axes>"
      ]
     },
     "metadata": {
      "needs_background": "light"
     },
     "output_type": "display_data"
    }
   ],
   "source": [
    "#import dataset\n",
    "\n",
    "whole_dataset = np.loadtxt(\"solar_data.csv\", delimiter=\",\")\n",
    "print(len(whole_dataset))\n",
    "input_dataset = whole_dataset[:2398]\n",
    "print(len(input_dataset))\n",
    "output_dataset = whole_dataset[2398:]\n",
    "print(len(output_dataset))\n",
    "\n",
    "\n",
    "\n",
    "t=np.arange(start=0,stop=len(whole_dataset), step=1)\n",
    "print(len(t))\n",
    "plt.plot(t,whole_dataset)\n",
    "\n"
   ]
  },
  {
   "cell_type": "code",
   "execution_count": 66,
   "metadata": {},
   "outputs": [
    {
     "name": "stdout",
     "output_type": "stream",
     "text": [
      "[[ 0.05710429  0.03427524  0.17114591  0.40064433 -0.11832704 -0.58973352\n",
      "  -0.94528167 -0.94182214 -0.26360423 -0.58537597]\n",
      " [ 0.18083641  0.48078681  0.16881265  0.20634809 -0.49521725 -0.80183306\n",
      "  -0.84408044 -0.22024333 -0.56790405 -0.43608683]\n",
      " [ 0.47834279  0.27015602  0.12327843  0.1186584  -0.75066935 -0.18457587\n",
      "  -0.59186066 -0.91741829 -0.15526044 -0.76017819]\n",
      " [ 0.2886799   0.15535864  0.30654759  0.04092471 -0.32560555 -0.36006015\n",
      "  -0.11694291 -0.58956045 -0.02737164 -0.31994099]\n",
      " [ 0.26244815  0.48152316  0.00332487  0.19816203 -0.08873481 -0.06299657\n",
      "  -0.92602174 -0.92026888 -0.86235447 -0.30528753]\n",
      " [ 0.28269217  0.08926972  0.49135556  0.3766287  -0.11636255 -0.36428746\n",
      "  -0.06557189 -0.85437552 -0.50556087 -0.91387982]\n",
      " [ 0.16019791  0.01866248  0.02626016  0.2232373  -0.6935768  -0.5683789\n",
      "  -0.7504483  -0.52548872 -0.45008874 -0.32551207]\n",
      " [ 0.01503119  0.42443251  0.40598991  0.10646694 -0.33342258 -0.75991726\n",
      "  -0.25652519 -0.021727   -0.5793287  -0.82304903]\n",
      " [ 0.30795861  0.10337057  0.3823869   0.330387   -0.64828292 -0.25266254\n",
      "  -0.26008968 -0.90336699 -0.17610445 -0.16846269]\n",
      " [ 0.31895601  0.00549552  0.24752353  0.19440876 -0.66255147 -0.43455154\n",
      "  -0.14745058 -0.04472589 -0.82096705 -0.93435282]]\n"
     ]
    }
   ],
   "source": [
    "input = input_dataset\n",
    "\n",
    "#Excitatory Neurons         Inhibitory neurons\n",
    "Ne = 800;                   Ni=200\n",
    "re = np.random.rand(Ne);    ri = np.random.rand(Ni)\n",
    "\n",
    "\n",
    "a = np.append(0.02*np.ones(Ne), 0.02+0.08*ri )\n",
    "b = np.append(0.2*np.ones(Ne), 0.25-0.05*ri )\n",
    "c = np.append(-65+15*re**2, -65*np.ones(Ni) )\n",
    "d = np.append(8 - 6*re**2,  2*np.ones(Ni) )\n",
    "\n",
    "#scaling of input connections\n",
    "win_e = 5; win_i = 2\n",
    "U=np.append(win_e * np.ones(Ne),   win_i * np.ones(Ni))\n",
    "\n",
    "\n",
    "#scaling of recurrent connections\n",
    "w_e = 0.5; w_i = 1\n",
    "\n",
    "S = np.hstack((w_e*np.random.rand(10,4),  -w_i*np.random.rand(10,6)))\n",
    "\n",
    "print(S)\n",
    "\n",
    "\n",
    "v=-65*np.ones(Ne+Ni)    #Initial values of v\n",
    "u=b*v                   #Initial values of u\n",
    "firings=[]; \n",
    "states = [];     "
   ]
  },
  {
   "cell_type": "code",
   "execution_count": 48,
   "metadata": {},
   "outputs": [
    {
     "ename": "SyntaxError",
     "evalue": "invalid syntax (3133481168.py, line 5)",
     "output_type": "error",
     "traceback": [
      "\u001b[0;36m  Input \u001b[0;32mIn [48]\u001b[0;36m\u001b[0m\n\u001b[0;31m    U=[win_e * ones(Ne,1);   win_i * ones(Ni,1)];\u001b[0m\n\u001b[0m                         ^\u001b[0m\n\u001b[0;31mSyntaxError\u001b[0m\u001b[0;31m:\u001b[0m invalid syntax\n"
     ]
    }
   ],
   "source": [
    "\n",
    "v=-65*ones(Ne+Ni,1);    #Initial values of v\n",
    "u=b.*v;                 #Initial values of u\n",
    "firings=[];             #spike timings\n",
    "\n",
    "states = []; %here we construct the matrix of reservoir states\n",
    "\n",
    "for t=1:size(input,2)            #simulation of 1000 ms\n",
    "  %we don't need random thalamic input:\n",
    "  %I=[5*randn(Ne,1);2*randn(Ni,1)]; #thalamic input\n",
    "  %we use instead the input from the external time series!\n",
    "  I=input(t) * U;\n",
    "  fired=find(v>=30);    #indices of spikes\n",
    "  firings=[firings; t+0*fired,fired];\n",
    "  v(fired)=c(fired);\n",
    "  u(fired)=u(fired)+d(fired);\n",
    "  \n",
    "  I=I+sum(S(:,fired),2); \n",
    "  v=v+0.5*(0.04*v.^2+5*v+140-u+I); #step 0.5 ms\n",
    "  v=v+0.5*(0.04*v.^2+5*v+140-u+I); #for numerical\n",
    "  u=u+a.*(b.*v-u);                 #stability\n",
    "  \n",
    "  states = [states (v>=30)]; \n",
    "  \n",
    "end\n",
    "plot(firings(:,1),firings(:,2),'.');\n",
    "\n",
    "#in the end states is 1000 x number of time steps"
   ]
  }
 ],
 "metadata": {
  "kernelspec": {
   "display_name": "cns_env",
   "language": "python",
   "name": "cns_env"
  },
  "language_info": {
   "codemirror_mode": {
    "name": "ipython",
    "version": 3
   },
   "file_extension": ".py",
   "mimetype": "text/x-python",
   "name": "python",
   "nbconvert_exporter": "python",
   "pygments_lexer": "ipython3",
   "version": "3.8.10"
  },
  "orig_nbformat": 4
 },
 "nbformat": 4,
 "nbformat_minor": 2
}
